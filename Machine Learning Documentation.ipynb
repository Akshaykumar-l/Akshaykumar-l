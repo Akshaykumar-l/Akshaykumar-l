{
 "cells": [
  {
   "cell_type": "markdown",
   "id": "3b4801f0",
   "metadata": {},
   "source": [
    "# 1. Linear Regression "
   ]
  },
  {
   "cell_type": "markdown",
   "id": "25db470a",
   "metadata": {},
   "source": [
    "## Assumptions for Linear Regression"
   ]
  },
  {
   "cell_type": "markdown",
   "id": "43b6172e",
   "metadata": {},
   "source": [
    "1.Data should be Linear -------------------------------(We can check by scatter plot) <br>\n",
    "2.There should not be any multi-coolinearity ----------(Variance inflation Factor (VIF)) <br>\n",
    "3.There should not be any auto corelation ------------- Durban Watson Test <br>\n",
    "4.There should not be any HeteroScadacity <br>\n",
    "5.Residual should be normally distributed <br>\n",
    "6.There should not be any endogeniaty problem"
   ]
  },
  {
   "cell_type": "code",
   "execution_count": null,
   "id": "0043a8d9",
   "metadata": {},
   "outputs": [],
   "source": [
    "from sklearn.model_selection import train_test_split \n",
    "x_train,x_test,y_train,y_test = train_test_split(x,y,test_size=0.2)"
   ]
  },
  {
   "cell_type": "code",
   "execution_count": null,
   "id": "90089077",
   "metadata": {},
   "outputs": [],
   "source": [
    "from sklearn.linear_model import LinearRegression\n",
    "model_lr = LinearRegression()\n",
    "model_lr.fit(x_train,y_train)\n",
    "model_lr.score(x_test,y_test)"
   ]
  },
  {
   "cell_type": "code",
   "execution_count": null,
   "id": "1015721a",
   "metadata": {},
   "outputs": [],
   "source": [
    "model_lr.intercept_\n",
    "model_lr.coef_"
   ]
  },
  {
   "cell_type": "code",
   "execution_count": null,
   "id": "4cf489e4",
   "metadata": {},
   "outputs": [],
   "source": [
    "y_pred_lr = model_lr.predict(x_test)"
   ]
  },
  {
   "cell_type": "code",
   "execution_count": null,
   "id": "58858b2d",
   "metadata": {},
   "outputs": [],
   "source": [
    "from sklearn.metrics import r2_score\n",
    "r2_score(y_test,y_pred_lr)"
   ]
  },
  {
   "cell_type": "code",
   "execution_count": null,
   "id": "c87cbf97",
   "metadata": {},
   "outputs": [],
   "source": [
    "R2 = (var(mean)-var(line))/var(mean)"
   ]
  },
  {
   "cell_type": "markdown",
   "id": "4a00e565",
   "metadata": {},
   "source": [
    "1.The results from r2_score(y_test,y_pred) is equal to model.score(x_test,y_test) <br>\n",
    "2. R2 value tells us the strength of relationship between two variables. <br>\n",
    "3. if R2 is 0.9 then it means 90% of the variation in the data is explained by the model <br>\n",
    "4. if R2 is something like 0.1 then it means only 10% of the variation in the data is explained by model other \n",
    " remaining 90% is explained by something else."
   ]
  },
  {
   "cell_type": "markdown",
   "id": "028d5c46",
   "metadata": {},
   "source": [
    "## 2.Ordinary Least Square Method (OLS)"
   ]
  },
  {
   "cell_type": "code",
   "execution_count": 2,
   "id": "63b73957",
   "metadata": {},
   "outputs": [],
   "source": [
    "from statsmodels.regression.linear_model import OLS\n",
    "import statsmodels.regression.linear_model as smf"
   ]
  },
  {
   "cell_type": "code",
   "execution_count": null,
   "id": "e0b3df67",
   "metadata": {},
   "outputs": [],
   "source": [
    "model_ols = smf.OLS(endog=y_train,exog=X_train).fit()\n",
    "model_ols.summary()"
   ]
  },
  {
   "cell_type": "markdown",
   "id": "94baed85",
   "metadata": {},
   "source": [
    "## <b><font color ='Green'>Homoscedasticity:</b></font> Linear regression assumes that the <b><font color='Red'>variance of the errors</b><font> is constant across all levels of the independent variables."
   ]
  },
  {
   "cell_type": "markdown",
   "id": "91b4e9be",
   "metadata": {},
   "source": [
    "### <b><font color='Blue'>Normality of errors</b><font>: Linear regression assumes that the <b><font color='black'>errors</b><font> are normally distributed."
   ]
  },
  {
   "cell_type": "code",
   "execution_count": null,
   "id": "419d71ff",
   "metadata": {},
   "outputs": [],
   "source": [
    "# Check normality\n",
    "plt.scatter(y_test, y_pred)\n",
    "\n",
    "# Checking Normality of Redidual with distribution plot\n",
    "sns.distplot((y_test - y_pred), bins=50)\n",
    "\n",
    "# Same thing as above\n",
    "delta = y_test - y_pred # residual \n",
    "sns.set_style('whitegrid')\n",
    "sns.kdeplot(np.array(delta), bw=0.5)\n",
    "plt.show()"
   ]
  },
  {
   "cell_type": "markdown",
   "id": "10199f94",
   "metadata": {},
   "source": [
    "1.Why we use square loss function but not absolute loss function in linear regression? <br>\n",
    "Ans. Absolute loss function (|y_pred-y_actua|) is not differentiable at 0. and we find best fit line by minimizing error <br>\n",
    "the function should differentiable at all points."
   ]
  },
  {
   "cell_type": "markdown",
   "id": "8cef67a6",
   "metadata": {},
   "source": [
    "### Regularisation method to handle overfitting problem\n",
    "\n",
    "1.Ridge (L2)<br>\n",
    "2.Lasso (L1)<br>\n",
    "3.ElasticNet(Ridge + Lasso)<br>"
   ]
  },
  {
   "cell_type": "markdown",
   "id": "34715b04",
   "metadata": {},
   "source": [
    "## Ridge "
   ]
  },
  {
   "cell_type": "code",
   "execution_count": null,
   "id": "ebd8fa10",
   "metadata": {},
   "outputs": [],
   "source": [
    "from sklearn.linear_model import Ridge,Lasso,ElasticNet"
   ]
  },
  {
   "cell_type": "code",
   "execution_count": null,
   "id": "7d42addf",
   "metadata": {},
   "outputs": [],
   "source": [
    "ridge_reg = Ridge(alpha=0.1)\n",
    "ridge_reg.fit(x_train, y_train)\n",
    "y_pred_ridge = ridge_reg.predict(x_test)\n",
    "r2_score(y_test, y_pred_ridge)"
   ]
  },
  {
   "cell_type": "markdown",
   "id": "7bb9bd18",
   "metadata": {},
   "source": [
    "## Lasso"
   ]
  },
  {
   "cell_type": "code",
   "execution_count": null,
   "id": "e6d5ce90",
   "metadata": {},
   "outputs": [],
   "source": [
    "lasso_reg = Lasso(alpha=0.1)\n",
    "lasso_reg.fit(x_train, y_train)\n",
    "y_pred_lasso = lasso_reg.predict(x_test)\n",
    "r2_score(y_test, y_pred_lasso)"
   ]
  },
  {
   "cell_type": "markdown",
   "id": "a47284d7",
   "metadata": {},
   "source": [
    "## Elastic Net"
   ]
  },
  {
   "cell_type": "code",
   "execution_count": null,
   "id": "a77c5adf",
   "metadata": {},
   "outputs": [],
   "source": [
    "elastic_reg = ElasticNet(alpha=0.1,l1_ratio=0.5)\n",
    "elastic_reg.fit(x_train, y_train)\n",
    "y_pred_elastic = elastic_reg.predict(x_test)\n",
    "r2_score(y_test, y_pred_elastic)"
   ]
  },
  {
   "cell_type": "markdown",
   "id": "85f8bada",
   "metadata": {},
   "source": [
    "# model measurement \n",
    " 1) MSE\n",
    " 2) RMSE\n",
    " 3) MAE\n",
    " 4) MAPE"
   ]
  },
  {
   "cell_type": "code",
   "execution_count": 3,
   "id": "b33dab64",
   "metadata": {},
   "outputs": [],
   "source": [
    "from sklearn import metrics"
   ]
  },
  {
   "cell_type": "code",
   "execution_count": null,
   "id": "1a0feb8b",
   "metadata": {},
   "outputs": [],
   "source": [
    "print('MSE', metrics.mean_squared_error(y_test, y_pred))\n",
    "\n",
    "print('RMSE', np.sqrt(metrics.mean_squared_error(y_test, y_pred)))\n",
    "\n",
    "print('MAE', metrics.mean_absolute_error(y_test, y_pred))\n",
    "\n",
    "print('MAPE', metrics.mean_absolute_percentage_error(y_test, y_pred))"
   ]
  },
  {
   "cell_type": "markdown",
   "id": "3cae54ee",
   "metadata": {},
   "source": [
    "## Gradient Descent "
   ]
  },
  {
   "cell_type": "markdown",
   "id": "c4d4d509",
   "metadata": {},
   "source": [
    "Gradient descent is an optimization algorithm that is commonly used in machine learning to find the values of parameters (such as the coefficients in a linear regression model) that minimize a cost function. The cost function represents the error or difference between the predicted values and the actual values, and the goal of gradient descent is to find the parameter values that minimize this error."
   ]
  },
  {
   "cell_type": "code",
   "execution_count": 5,
   "id": "3f891b1f",
   "metadata": {},
   "outputs": [],
   "source": [
    "from sklearn.linear_model import SGDRegressor"
   ]
  },
  {
   "cell_type": "code",
   "execution_count": null,
   "id": "5585d677",
   "metadata": {},
   "outputs": [],
   "source": [
    "sgd= SGDRegressor()\n",
    "sgd.fit(x_train, y_train)"
   ]
  },
  {
   "cell_type": "code",
   "execution_count": null,
   "id": "bcfca129",
   "metadata": {},
   "outputs": [],
   "source": [
    "y_pred_sgd = sgd.predict(x_test)\n",
    "r2_score(y_test, y_pred_sgd)"
   ]
  },
  {
   "cell_type": "markdown",
   "id": "8b748319",
   "metadata": {},
   "source": [
    "## Polynomial Regression"
   ]
  },
  {
   "cell_type": "code",
   "execution_count": 6,
   "id": "88c55f83",
   "metadata": {},
   "outputs": [],
   "source": [
    "from sklearn.preprocessing import PolynomialFeatures"
   ]
  },
  {
   "cell_type": "code",
   "execution_count": null,
   "id": "a3028d96",
   "metadata": {},
   "outputs": [],
   "source": [
    "poly = PolynomialFeatures(degree=2)\n",
    "x_train_trans = poly.fit_transform(x_train2)\n",
    "x_test_trans = poly.fit_transform(x_test2)"
   ]
  },
  {
   "cell_type": "code",
   "execution_count": null,
   "id": "1d6eedbb",
   "metadata": {},
   "outputs": [],
   "source": [
    "linear_poly = LinearRegression()\n",
    "linear_poly.fit(x_train_trans, y_train2)\n",
    "y_pred_ply = linear_poly.predict(x_test_trans)\n",
    "r2_score(y_test2,y_pred_ply)"
   ]
  },
  {
   "cell_type": "markdown",
   "id": "54737355",
   "metadata": {},
   "source": [
    "## Logistic Regression"
   ]
  },
  {
   "cell_type": "code",
   "execution_count": null,
   "id": "f6009d7f",
   "metadata": {},
   "outputs": [],
   "source": [
    "from sklearn.linear_model import LogisticRegression\n",
    "logit_model = LogisticRegression()\n",
    "logit_model.fit(x_train, y_train)"
   ]
  },
  {
   "cell_type": "code",
   "execution_count": null,
   "id": "01a40f0b",
   "metadata": {},
   "outputs": [],
   "source": [
    "# Predict result\n",
    "y_pred_train = logit_model.predict(x_train)\n",
    "y_pred_test = logit_model.predict(x_test)"
   ]
  },
  {
   "cell_type": "markdown",
   "id": "b01f0743",
   "metadata": {},
   "source": [
    "### Evaluation "
   ]
  },
  {
   "cell_type": "code",
   "execution_count": null,
   "id": "1d3c24d1",
   "metadata": {},
   "outputs": [],
   "source": [
    "# Evaluate \n",
    "from sklearn.metrics import confusion_matrix, classification_report, accuracy_score"
   ]
  },
  {
   "cell_type": "code",
   "execution_count": null,
   "id": "46941e7b",
   "metadata": {},
   "outputs": [],
   "source": [
    "confusion_matrix(y_test,y_pred_test)\n",
    "confusion_matrix(y_train,y_pred_train)"
   ]
  },
  {
   "cell_type": "code",
   "execution_count": null,
   "id": "82fdbc1c",
   "metadata": {},
   "outputs": [],
   "source": [
    "print(classification_report(y_test,y_pred_test))\n",
    "print(classification_report(y_train,y_pred_train))"
   ]
  },
  {
   "cell_type": "code",
   "execution_count": null,
   "id": "92a9090f",
   "metadata": {},
   "outputs": [],
   "source": [
    "accuracy_score(y_test,y_pred_test)\n",
    "accuracy_score(y_train,y_pred_train)"
   ]
  },
  {
   "cell_type": "code",
   "execution_count": null,
   "id": "19fe789c",
   "metadata": {},
   "outputs": [],
   "source": [
    "# ROC-AUC\n",
    "from sklearn.metrics import roc_auc_score\n",
    "logistic_roc_auc = roc_auc_score(y_test,y_pred_test)\n",
    "logistic_roc_auc"
   ]
  },
  {
   "cell_type": "code",
   "execution_count": null,
   "id": "a723180a",
   "metadata": {},
   "outputs": [],
   "source": [
    "from sklearn.metrics import roc_curve\n",
    "fpr, tpr, thresholds = roc_curve(y_test, y_pred_test)\n",
    "#fpr-False Positive rate \n",
    "#tpr-True Positive rate"
   ]
  },
  {
   "cell_type": "code",
   "execution_count": null,
   "id": "854a2424",
   "metadata": {},
   "outputs": [],
   "source": [
    "plt.figure()\n",
    "plt.plot(fpr, tpr, label = \"ROC Curve (area=%0.2f)\" %logistic_roc_auc)\n",
    "plt.plot([0,1],[0,1],'k--')\n",
    "plt.xlim([0.0,1.0])\n",
    "plt.ylim([0.0,1.0])\n",
    "plt.xlabel(\"False Positive Rate\")\n",
    "plt.ylabel(\"True Positive Rate\")\n",
    "plt.title(\"Receiver Operating Characteristic with Area Under Curve\")\n",
    "plt.legend(loc='lower right')\n",
    "plt.show()"
   ]
  },
  {
   "cell_type": "markdown",
   "id": "ea83a766",
   "metadata": {},
   "source": [
    "###  how to improve my model"
   ]
  },
  {
   "cell_type": "code",
   "execution_count": null,
   "id": "64764278",
   "metadata": {},
   "outputs": [],
   "source": [
    "# cross validation score - K_FOLD method\n",
    "from sklearn.model_selection import cross_val_score\n",
    "accuracy = cross_val_score(logit_model, x_test, y_test, cv =20)\n",
    "accuracy"
   ]
  },
  {
   "cell_type": "code",
   "execution_count": null,
   "id": "1799ad9c",
   "metadata": {},
   "outputs": [],
   "source": []
  },
  {
   "cell_type": "markdown",
   "id": "7d562bc2",
   "metadata": {},
   "source": [
    "## Decision Tree "
   ]
  },
  {
   "cell_type": "code",
   "execution_count": null,
   "id": "428ede3a",
   "metadata": {},
   "outputs": [],
   "source": [
    "from sklearn.tree import DecisionTreeClassifier\n",
    "dt1 = DecisionTreeClassifier(criterion='gini')\n",
    "dt1.fit(x_train, y_train)\n",
    "dt2 = DecisionTreeClassifier(criterion='entropy')\n",
    "dt2.fit(x_train, y_train)"
   ]
  },
  {
   "cell_type": "code",
   "execution_count": null,
   "id": "9d92534a",
   "metadata": {},
   "outputs": [],
   "source": [
    "# Predict \n",
    "y_pred_dt1_train = dt1.predict(x_train)\n",
    "y_pred_dt1_test = dt1.predict(x_test)\n",
    "\n",
    "y_pred_dt2_train = dt2.predict(x_train)\n",
    "y_pred_dt2_test = dt2.predict(x_test)"
   ]
  },
  {
   "cell_type": "code",
   "execution_count": null,
   "id": "2bd1acc5",
   "metadata": {},
   "outputs": [],
   "source": [
    "# post pruning\n",
    "dt1.feature_importances_"
   ]
  },
  {
   "cell_type": "code",
   "execution_count": null,
   "id": "a0e6e6be",
   "metadata": {},
   "outputs": [],
   "source": [
    "pd.DataFrame(index=x.columns, data=dt1.feature_importances_, columns = ['Feature Importance'])"
   ]
  },
  {
   "cell_type": "code",
   "execution_count": null,
   "id": "fe593882",
   "metadata": {},
   "outputs": [],
   "source": [
    "from sklearn.tree import plot_tree\n",
    "plt.figure(figsize=(12,8))\n",
    "plot_tree(dt1)\n",
    "plt.show()"
   ]
  },
  {
   "cell_type": "code",
   "execution_count": null,
   "id": "d878ae23",
   "metadata": {},
   "outputs": [],
   "source": [
    "plt.figure(figsize=(12,8), dpi=150)\n",
    "plot_tree(dt2, feature_names=x.columns, filled=True)\n",
    "plt.show()"
   ]
  },
  {
   "cell_type": "code",
   "execution_count": null,
   "id": "a9123462",
   "metadata": {},
   "outputs": [],
   "source": [
    "# HyperParameter in DecisionTree\n",
    "prunned_tree = DecisionTreeClassifier(max_depth=2)\n",
    "prunned_tree.fit(x_train, y_train)"
   ]
  },
  {
   "cell_type": "markdown",
   "id": "1dfdc15f",
   "metadata": {},
   "source": [
    "## Random Forest and Bagging "
   ]
  },
  {
   "cell_type": "code",
   "execution_count": 9,
   "id": "6744f0b0",
   "metadata": {},
   "outputs": [],
   "source": [
    "# RandomForest and Bagging method\n",
    "from sklearn.ensemble import BaggingClassifier\n",
    "from sklearn.ensemble import RandomForestClassifier"
   ]
  },
  {
   "cell_type": "code",
   "execution_count": null,
   "id": "f6fa22f1",
   "metadata": {},
   "outputs": [],
   "source": [
    "bag = BaggingClassifier()\n",
    "bag.fit(x_train, y_train)"
   ]
  },
  {
   "cell_type": "code",
   "execution_count": null,
   "id": "83dc1e75",
   "metadata": {},
   "outputs": [],
   "source": [
    "y_pred_bag_train = bag.predict(x_train)\n",
    "y_pred_bag_test = bag.predict(x_test)"
   ]
  },
  {
   "cell_type": "code",
   "execution_count": null,
   "id": "40474f00",
   "metadata": {},
   "outputs": [],
   "source": [
    "rf = RandomForestClassifier(n_estimators=1000, max_depth=2,oob_score=True)\n",
    "rf.fit(x_train, y_train)"
   ]
  },
  {
   "cell_type": "code",
   "execution_count": null,
   "id": "d71ba633",
   "metadata": {},
   "outputs": [],
   "source": [
    "y_pred_rf_train = rf.predict(x_train)\n",
    "y_pred_rf_test = rf.predict(x_test)"
   ]
  },
  {
   "cell_type": "code",
   "execution_count": null,
   "id": "35f9e023",
   "metadata": {},
   "outputs": [],
   "source": []
  },
  {
   "cell_type": "code",
   "execution_count": null,
   "id": "3ae812ea",
   "metadata": {},
   "outputs": [],
   "source": []
  }
 ],
 "metadata": {
  "kernelspec": {
   "display_name": "Python 3 (ipykernel)",
   "language": "python",
   "name": "python3"
  },
  "language_info": {
   "codemirror_mode": {
    "name": "ipython",
    "version": 3
   },
   "file_extension": ".py",
   "mimetype": "text/x-python",
   "name": "python",
   "nbconvert_exporter": "python",
   "pygments_lexer": "ipython3",
   "version": "3.9.12"
  }
 },
 "nbformat": 4,
 "nbformat_minor": 5
}
