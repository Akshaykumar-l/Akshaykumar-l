{
 "cells": [
  {
   "cell_type": "markdown",
   "id": "3c3f104f",
   "metadata": {},
   "source": [
    "## 1. Basic Libraries to be load "
   ]
  },
  {
   "cell_type": "code",
   "execution_count": 1,
   "id": "ec871002",
   "metadata": {},
   "outputs": [],
   "source": [
    "import numpy as np\n",
    "import pandas as pd\n",
    "import matplotlib.pyplot as plt\n",
    "%matplotlib inline\n",
    "import seaborn as sns\n",
    "sns.set()\n",
    "import warnings\n",
    "warnings.filterwarnings('ignore')"
   ]
  },
  {
   "cell_type": "markdown",
   "id": "b9228631",
   "metadata": {},
   "source": [
    "## 2. Basic Checking "
   ]
  },
  {
   "cell_type": "code",
   "execution_count": 3,
   "id": "7d496338",
   "metadata": {},
   "outputs": [],
   "source": [
    "df = pd.read_excel('Employee_Data.xls')"
   ]
  },
  {
   "cell_type": "markdown",
   "id": "43a78a71",
   "metadata": {},
   "source": [
    "---------------------------------------------------------------------------------------------------------------------------\n",
    "### a. Glimpse at data\n",
    "1.df.head() ----------------- check first five rows <br>\n",
    "2. df.tail() -----------------check last five rows <br>\n",
    "3. df.shape() ----------------Rows X columns <br>\n",
    "4. df.describe() -------------Basic Statistics <br>\n",
    "5. df.info() -----------------For checking non null values and datatypes of each variable  <br>\n",
    "6. df.columns-----------------Name of the columns"
   ]
  },
  {
   "cell_type": "markdown",
   "id": "f0201a95",
   "metadata": {},
   "source": [
    "--------------------------------------------------------------------------------------------------------------------------\n",
    "### b.Check for Duplicates \n",
    "1. duplicates = df.duplicated() <br>\n",
    "2. print( \" No of duplicated rows = %d \" %(dupicates.sum())) <br>\n",
    "3. df.drop_duplicates(inplace =True)"
   ]
  },
  {
   "cell_type": "markdown",
   "id": "06231641",
   "metadata": {},
   "source": [
    "--------------------------------------------------------------------------------------------------------------------------\n",
    "### c. Convert datatype into required datatype.\n",
    "     df['POSTAL CODE']=pd.Categorical(df['POSTAL CODE'])"
   ]
  },
  {
   "cell_type": "markdown",
   "id": "e1f50184",
   "metadata": {},
   "source": [
    "# <u> 3.Preprocessing "
   ]
  },
  {
   "cell_type": "markdown",
   "id": "24f1ddab",
   "metadata": {},
   "source": [
    "## a. Handling Missing value ##"
   ]
  },
  {
   "cell_type": "markdown",
   "id": "3e9c3f07",
   "metadata": {},
   "source": [
    " Checking threshold value for missing value i.e 25% \n",
    "1. <b> df.isnull().sum()/len(df) * 100 </b> ------------ Will give each column missing value percentage <br>\n"
   ]
  },
  {
   "cell_type": "markdown",
   "id": "dcd2e443",
   "metadata": {},
   "source": [
    "### <u> Imputation is required for missing values "
   ]
  },
  {
   "cell_type": "markdown",
   "id": "3becbaf9",
   "metadata": {},
   "source": [
    "1. If variable is <font color ='blue'>Categorical </font> ,imputation is done based on MODE \n",
    "2. If variable is <font color ='blue'>Numerical </font> ,imputation is done based on Mean or Median\n",
    "2.a.  If the variable does not contain Outliers <font color ='red'>Mean</font> is recommended \n",
    "2.b.  If the variable does contain Outlier <font color = 'red'>Median </font>is recommended "
   ]
  },
  {
   "cell_type": "markdown",
   "id": "41dfd56b",
   "metadata": {},
   "source": [
    "###### For Mode calculations\n",
    "1.  df [<font color = 'Green'> ' Categorical_value_variable '</font>].value_counts() <br>\n",
    "2.  <font color ='Blue'> mode_df_categorical </font> = df [<font color = 'Green'> ' Categorical_value_variable '</font>].mode().value[0]\n",
    "3.  df [<font color = 'Green'> ' Categorical_value_variable '</font>].replace(np.nan,<font color = 'Blue' > mode_df_categorical </font>,inplace = True)"
   ]
  },
  {
   "cell_type": "markdown",
   "id": "81bf7907",
   "metadata": {},
   "source": [
    "###### For Numerical values---Median\n",
    "1. <font color = 'Blue'> median </font> = df [ <font color = 'Green'>'Numerical_variable'</font> ].<font color = 'Blue'> median() </font>\n",
    "2.  df [<font color ='Green'>'Numerical_variable'</font> ].replace(np.nan,<font color = 'Blue'> median </font> , inplace = True)\n",
    "\n",
    "###### For Numerical values--- Mean\n",
    "1. <font color = 'Blue'> mean </font> = df [ <font color = 'Green'>'Numerical_variable'</font> ].<font color = 'Blue'> mean() </font>\n",
    "2.  df [<font color ='Green'>'Numerical_variable'</font> ].replace(np.nan,<font color = 'Blue'> mean </font> , inplace = True)"
   ]
  }
 ],
 "metadata": {
  "kernelspec": {
   "display_name": "Python 3 (ipykernel)",
   "language": "python",
   "name": "python3"
  },
  "language_info": {
   "codemirror_mode": {
    "name": "ipython",
    "version": 3
   },
   "file_extension": ".py",
   "mimetype": "text/x-python",
   "name": "python",
   "nbconvert_exporter": "python",
   "pygments_lexer": "ipython3",
   "version": "3.9.12"
  }
 },
 "nbformat": 4,
 "nbformat_minor": 5
}
